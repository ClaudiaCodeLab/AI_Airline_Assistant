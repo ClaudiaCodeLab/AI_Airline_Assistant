{
 "cells": [
  {
   "cell_type": "markdown",
   "id": "c65c0cda",
   "metadata": {},
   "source": [
    "# 🛫 FlightAI - Airline Assistant\n",
    "This Jupyter Notebook contains a chatbot implementation that supports OpenAI's GPT-4 and Llama 3 via Ollama.\n",
    "It can retrieve ticket prices and engage in conversations dynamically."
   ]
  },
  {
   "cell_type": "code",
   "execution_count": null,
   "id": "c655326b",
   "metadata": {},
   "outputs": [],
   "source": [
    "\n",
    "import os\n",
    "import re\n",
    "import json\n",
    "from dotenv import load_dotenv\n",
    "from openai import OpenAI\n",
    "import gradio as gr\n",
    "import ollama\n",
    "\n",
    "# Load environment variables\n",
    "load_dotenv()\n",
    "\n",
    "# Set OpenAI API key (if using OpenAI)\n",
    "openai_api_key = os.getenv('OPENAI_API_KEY')\n",
    "\n",
    "# Model selection: OpenAI GPT or Local Llama\n",
    "USE_OPENAI = bool(openai_api_key)  # Auto-detect OpenAI API key\n",
    "OPENAI_MODEL = \"gpt-4o-mini\"  # Use GPT model with function calling\n",
    "OLLAMA_MODEL = \"llama3\"  # Change this to match the local Ollama model\n",
    "\n",
    "# Initialize OpenAI client (only if OpenAI API is available)\n",
    "if USE_OPENAI:\n",
    "    openai = OpenAI()\n",
    "\n",
    "# System message for chatbot\n",
    "SYSTEM_MESSAGE = (\n",
    "    \"You are a helpful assistant for an Airline called FlightAI. \"\n",
    "    \"Give short, courteous answers, no more than 1 sentence. \"\n",
    "    \"Always be accurate. If you don't know the answer, say so.\"\n",
    ")\n",
    "\n",
    "# Ticket Prices\n",
    "TICKET_PRICES = {\"london\": \"$799\", \"paris\": \"$899\", \"tokyo\": \"$1400\", \"berlin\": \"$499\"}\n"
   ]
  },
  {
   "cell_type": "code",
   "execution_count": null,
   "id": "90b586fd",
   "metadata": {},
   "outputs": [],
   "source": [
    "\n",
    "# Function to fetch ticket prices\n",
    "def get_ticket_price(destination_city):\n",
    "    city = destination_city.lower()\n",
    "    return TICKET_PRICES.get(city, \"Unknown\")\n",
    "\n",
    "# Detect if user query is related to ticket pricing\n",
    "def detect_ticket_query(message):\n",
    "    price_patterns = [\n",
    "        r\"how much is a ticket to (\\w+)\\??\",\n",
    "        r\"ticket price for (\\w+)\\??\",\n",
    "        r\"cost of a flight to (\\w+)\\??\",\n",
    "        r\"price to (\\w+)\\??\"\n",
    "    ]\n",
    "    for pattern in price_patterns:\n",
    "        match = re.search(pattern, message, re.IGNORECASE)\n",
    "        if match:\n",
    "            return match.group(1)\n",
    "    return None\n"
   ]
  },
  {
   "cell_type": "code",
   "execution_count": null,
   "id": "20e7327d",
   "metadata": {},
   "outputs": [],
   "source": [
    "\n",
    "# OpenAI function definition\n",
    "price_function = {\n",
    "    \"name\": \"get_ticket_price\",\n",
    "    \"description\": \"Get the price of a return ticket to the destination city.\",\n",
    "    \"parameters\": {\n",
    "        \"type\": \"object\",\n",
    "        \"properties\": {\n",
    "            \"destination_city\": {\"type\": \"string\", \"description\": \"The city the customer wants to travel to\"},\n",
    "        },\n",
    "        \"required\": [\"destination_city\"]\n",
    "    }\n",
    "}\n"
   ]
  },
  {
   "cell_type": "code",
   "execution_count": null,
   "id": "53c6ac57",
   "metadata": {},
   "outputs": [],
   "source": [
    "\n",
    "def chat_openai(message, history):\n",
    "    messages = [{\"role\": \"system\", \"content\": SYSTEM_MESSAGE}] + history + [{\"role\": \"user\", \"content\": message}]\n",
    "    response = openai.chat.completions.create(model=OPENAI_MODEL, messages=messages, tools=[{\"type\": \"function\", \"function\": price_function}])\n",
    "    \n",
    "    if response.choices[0].finish_reason == \"tool_calls\":\n",
    "        message = response.choices[0].message\n",
    "        tool_call = message.tool_calls[0]\n",
    "        arguments = json.loads(tool_call.function.arguments)\n",
    "        city = arguments.get('destination_city')\n",
    "        price = get_ticket_price(city)\n",
    "        tool_response = {\"role\": \"tool\", \"content\": json.dumps({\"destination_city\": city, \"price\": price}), \"tool_call_id\": tool_call.id}\n",
    "        messages.append(tool_response)\n",
    "        response = openai.chat.completions.create(model=OPENAI_MODEL, messages=messages)\n",
    "    \n",
    "    return response.choices[0].message.content\n"
   ]
  },
  {
   "cell_type": "code",
   "execution_count": null,
   "id": "07676fe3",
   "metadata": {},
   "outputs": [],
   "source": [
    "\n",
    "def chat_ollama(message, history):\n",
    "    city = detect_ticket_query(message)\n",
    "    if city:\n",
    "        price = get_ticket_price(city)\n",
    "        return f\"A return ticket to {city.capitalize()} costs {price}.\"\n",
    "    history_text = \"\\n\".join([f\"{h['role']}: {h['content']}\" for h in history])\n",
    "    formatted_prompt = f\"{SYSTEM_MESSAGE}\\n\\n{history_text}\\n\\nUser: {message}\\nAssistant:\"\n",
    "    response = ollama.chat(model=OLLAMA_MODEL, messages=[{\"role\": \"user\", \"content\": formatted_prompt}])\n",
    "    return response[\"message\"][\"content\"]\n"
   ]
  },
  {
   "cell_type": "code",
   "execution_count": null,
   "id": "bc9b6302",
   "metadata": {},
   "outputs": [],
   "source": [
    "\n",
    "def chat(message, history):\n",
    "    return chat_openai(message, history) if USE_OPENAI else chat_ollama(message, history)\n"
   ]
  },
  {
   "cell_type": "code",
   "execution_count": null,
   "id": "68d42774",
   "metadata": {},
   "outputs": [],
   "source": [
    "\n",
    "# Launch Gradio UI for chatbot interaction\n",
    "gr.ChatInterface(fn=chat, type=\"messages\").launch()\n"
   ]
  }
 ],
 "metadata": {},
 "nbformat": 4,
 "nbformat_minor": 5
}
